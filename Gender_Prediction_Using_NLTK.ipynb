{
 "cells": [
  {
   "cell_type": "markdown",
   "metadata": {},
   "source": [
    " "
   ]
  },
  {
   "cell_type": "markdown",
   "metadata": {},
   "source": [
    "# Gender Identification."
   ]
  },
  {
   "cell_type": "markdown",
   "metadata": {},
   "source": [
    "### &emsp; &emsp; 1. Import Libraries."
   ]
  },
  {
   "cell_type": "code",
   "execution_count": 1,
   "metadata": {},
   "outputs": [],
   "source": [
    "import nltk\n",
    "import random"
   ]
  },
  {
   "cell_type": "markdown",
   "metadata": {},
   "source": [
    "### &emsp; &emsp; 2. Importing Names."
   ]
  },
  {
   "cell_type": "code",
   "execution_count": 2,
   "metadata": {},
   "outputs": [
    {
     "name": "stdout",
     "output_type": "stream",
     "text": [
      "Sample Male Names:-    ['Aamir', 'Aaron', 'Abbey', 'Abbie', 'Abbot']\n",
      "Sample Female Names:-  ['Abagael', 'Abagail', 'Abbe', 'Abbey', 'Abbi']\n"
     ]
    }
   ],
   "source": [
    "from nltk.corpus import names\n",
    "\n",
    "# Listing the names.\n",
    "Male_Names = names.words('male.txt')\n",
    "Female_Names = names.words('female.txt')\n",
    "\n",
    "# Print sample names.\n",
    "print('Sample Male Names:-   ',Male_Names[0:5])\n",
    "print('Sample Female Names:- ',Female_Names[0:5])"
   ]
  },
  {
   "cell_type": "markdown",
   "metadata": {},
   "source": [
    "### &emsp; &emsp; 3. Taging Male, Female & Shuffle The Names."
   ]
  },
  {
   "cell_type": "code",
   "execution_count": 3,
   "metadata": {},
   "outputs": [
    {
     "name": "stdout",
     "output_type": "stream",
     "text": [
      "[('Aamir', 'male'), ('Aaron', 'male'), ('Abbey', 'male'), ('Abbie', 'male'), ('Abbot', 'male')] \n",
      "\n",
      "[('Zorine', 'female'), ('Zsa Zsa', 'female'), ('Zsazsa', 'female'), ('Zulema', 'female'), ('Zuzana', 'female')]\n",
      "\n",
      " #### Suffled names:-\n"
     ]
    },
    {
     "data": {
      "text/plain": [
       "[('Doug', 'male'),\n",
       " ('Maryellen', 'female'),\n",
       " ('Dwayne', 'male'),\n",
       " ('Liam', 'male'),\n",
       " ('Gunter', 'male')]"
      ]
     },
     "execution_count": 3,
     "metadata": {},
     "output_type": "execute_result"
    }
   ],
   "source": [
    "# Creating a list of Male & Female names with Tags.\n",
    "Name_List = [(Name , 'male') for Name in Male_Names] + [(Name , 'female') for Name in Female_Names]\n",
    "\n",
    "# Print sample names.\n",
    "print(Name_List[:5],'\\n')\n",
    "print(Name_List[-5:])\n",
    "\n",
    "random.shuffle(Name_List)\n",
    "# Print sample names.\n",
    "\n",
    "print('\\n #### Suffled names:-')\n",
    "Name_List[-5:]"
   ]
  },
  {
   "cell_type": "markdown",
   "metadata": {},
   "source": [
    "### &emsp; &emsp; 4. Creating Features."
   ]
  },
  {
   "cell_type": "code",
   "execution_count": 4,
   "metadata": {},
   "outputs": [
    {
     "data": {
      "text/plain": [
       "[({'last_char': 'e',\n",
       "   'last_two_char': 'fe',\n",
       "   'last_three_char': 'ffe',\n",
       "   'first_char': 'R',\n",
       "   'first_two_char': 'Ra',\n",
       "   'first_three_char': 'Rad'},\n",
       "  'male')]"
      ]
     },
     "execution_count": 4,
     "metadata": {},
     "output_type": "execute_result"
    }
   ],
   "source": [
    "def Name_Feature (name):\n",
    "    return {\n",
    "        'last_char': name[-1],\n",
    "        'last_two_char': name[-2:],\n",
    "        'last_three_char': name[-3:],\n",
    "        'first_char': name[0],\n",
    "        'first_two_char': name[:2],\n",
    "        'first_three_char': name[:3]\n",
    "    }\n",
    "\n",
    "features = [ (Name_Feature(name= NAME), Gender) for (NAME, Gender) in Name_List ]\n",
    "features[:1]"
   ]
  },
  {
   "cell_type": "markdown",
   "metadata": {},
   "source": [
    "### &emsp; &emsp; 5. Split The Data Into Training and Testing Set."
   ]
  },
  {
   "cell_type": "code",
   "execution_count": 5,
   "metadata": {},
   "outputs": [
    {
     "name": "stdout",
     "output_type": "stream",
     "text": [
      "5561\n",
      "2383\n"
     ]
    }
   ],
   "source": [
    "Training_Set = features[ :round(len(features) * .7)]\n",
    "Testing_Set = features[round(len(features) * .7): ]\n",
    "\n",
    "print(len(Training_Set))\n",
    "print(len(Testing_Set))"
   ]
  },
  {
   "cell_type": "markdown",
   "metadata": {},
   "source": [
    "### &emsp; &emsp; 6. Training The Model."
   ]
  },
  {
   "cell_type": "code",
   "execution_count": 6,
   "metadata": {},
   "outputs": [],
   "source": [
    "classifier = nltk.NaiveBayesClassifier.train(Training_Set)"
   ]
  },
  {
   "cell_type": "markdown",
   "metadata": {},
   "source": [
    "### &emsp; &emsp; 7. Testing The Accuracy."
   ]
  },
  {
   "cell_type": "code",
   "execution_count": 7,
   "metadata": {},
   "outputs": [
    {
     "data": {
      "text/plain": [
       "84.39"
      ]
     },
     "execution_count": 7,
     "metadata": {},
     "output_type": "execute_result"
    }
   ],
   "source": [
    "round(nltk.classify.accuracy(classifier , Testing_Set) * 100, 2)"
   ]
  },
  {
   "cell_type": "markdown",
   "metadata": {},
   "source": [
    "### &emsp; &emsp; 8. Prediction."
   ]
  },
  {
   "cell_type": "code",
   "execution_count": 8,
   "metadata": {},
   "outputs": [
    {
     "data": {
      "text/plain": [
       "'male'"
      ]
     },
     "execution_count": 8,
     "metadata": {},
     "output_type": "execute_result"
    }
   ],
   "source": [
    "classifier.classify(Name_Feature('tom'))"
   ]
  },
  {
   "cell_type": "markdown",
   "metadata": {},
   "source": [
    "### &emsp; &emsp; 9. Training The Model On Full Data."
   ]
  },
  {
   "cell_type": "code",
   "execution_count": 9,
   "metadata": {},
   "outputs": [],
   "source": [
    "Final_Classifier_Model = nltk.NaiveBayesClassifier.train(features)"
   ]
  },
  {
   "cell_type": "markdown",
   "metadata": {},
   "source": [
    "##  Save the model as a serialized file which can be stored anywhere:-"
   ]
  },
  {
   "cell_type": "code",
   "execution_count": 10,
   "metadata": {},
   "outputs": [
    {
     "name": "stdout",
     "output_type": "stream",
     "text": [
      "pickle file of Predictive Model is saved at Location: C:\\Users\\Pranab_Kumar_Paul\\Desktop\\Python_Script\\My_Script\\Python_Project(GitHub)\\UnSupervised__(Text_Data)\n"
     ]
    }
   ],
   "source": [
    "import pickle\n",
    "import os\n",
    "\n",
    "# Saving the Python objects as serialized files.\n",
    "\n",
    "with open('Final_Classifier_Model.pkl', 'wb') as fileWriteStream:\n",
    "    pickle.dump(Final_Classifier_Model, fileWriteStream)\n",
    "    fileWriteStream.close()\n",
    "    \n",
    "print('pickle file of Predictive Model is saved at Location:',os.getcwd())"
   ]
  },
  {
   "cell_type": "markdown",
   "metadata": {},
   "source": [
    "## Create a python function:-"
   ]
  },
  {
   "cell_type": "code",
   "execution_count": 11,
   "metadata": {},
   "outputs": [],
   "source": [
    "def Identify_Person_Gender(Text):\n",
    "    import re\n",
    "    import pandas as pd\n",
    "    import nltk\n",
    "    from nltk.tokenize import word_tokenize, sent_tokenize\n",
    "    \n",
    "    ### Import The Final Model.\n",
    "    import pickle\n",
    "    with open('Final_Classifier_Model.pkl', 'rb') as fileReadStream:\n",
    "        Prediction_Model=pickle.load(fileReadStream)\n",
    "        fileReadStream.close() \n",
    "        \n",
    "    Final_Name= []\n",
    "    Final_Gender= []\n",
    "    \n",
    "    ### Tokenize To Sentence --\n",
    "    Sent_List = sent_tokenize(Text.title())\n",
    "    \n",
    "    for sent in Sent_List:\n",
    "        ### Tokenize the Sentence --\n",
    "        word_list = word_tokenize(sent)\n",
    "\n",
    "        ### POS tagging\n",
    "        pos_tags = nltk.pos_tag(word_list)\n",
    "\n",
    "        ### Extract The Name.\n",
    "        Person_Name= [name[0] for name in pos_tags if name[1] in ['NNP','NN']]\n",
    "        Person_Name= re.sub(r'[^a-z A-Z . ,]',r'',str(Person_Name))\n",
    "\n",
    "        Person_Name_feature= {  'last_char': Person_Name[-1],\n",
    "                                'last_two_char': Person_Name[-2:],\n",
    "                                'last_three_char': Person_Name[-3:],\n",
    "                                'first_char': Person_Name[0],\n",
    "                                'first_two_char': Person_Name[:2],\n",
    "                                'first_three_char': Person_Name[:3] \n",
    "                             } \n",
    "\n",
    "        # Genrating Predictions\n",
    "        Gender_Prediction=Prediction_Model.classify(Person_Name_feature)\n",
    "        \n",
    "        Final_Name.append(Person_Name)\n",
    "        Final_Gender.append(Gender_Prediction)        \n",
    "    \n",
    "    prediction_result= pd.DataFrame({'Name':Final_Name, 'Gender': Final_Gender})\n",
    "    \n",
    "    return(prediction_result)"
   ]
  },
  {
   "cell_type": "markdown",
   "metadata": {},
   "source": [
    "## Calling The Function."
   ]
  },
  {
   "cell_type": "code",
   "execution_count": 12,
   "metadata": {},
   "outputs": [
    {
     "data": {
      "text/html": [
       "<div>\n",
       "<style scoped>\n",
       "    .dataframe tbody tr th:only-of-type {\n",
       "        vertical-align: middle;\n",
       "    }\n",
       "\n",
       "    .dataframe tbody tr th {\n",
       "        vertical-align: top;\n",
       "    }\n",
       "\n",
       "    .dataframe thead th {\n",
       "        text-align: right;\n",
       "    }\n",
       "</style>\n",
       "<table border=\"1\" class=\"dataframe\">\n",
       "  <thead>\n",
       "    <tr style=\"text-align: right;\">\n",
       "      <th></th>\n",
       "      <th>Name</th>\n",
       "      <th>Gender</th>\n",
       "    </tr>\n",
       "  </thead>\n",
       "  <tbody>\n",
       "    <tr>\n",
       "      <th>0</th>\n",
       "      <td>Pranab</td>\n",
       "      <td>male</td>\n",
       "    </tr>\n",
       "    <tr>\n",
       "      <th>1</th>\n",
       "      <td>Rita</td>\n",
       "      <td>female</td>\n",
       "    </tr>\n",
       "    <tr>\n",
       "      <th>2</th>\n",
       "      <td>Tom</td>\n",
       "      <td>male</td>\n",
       "    </tr>\n",
       "  </tbody>\n",
       "</table>\n",
       "</div>"
      ],
      "text/plain": [
       "     Name  Gender\n",
       "0  Pranab    male\n",
       "1    Rita  female\n",
       "2     Tom    male"
      ]
     },
     "execution_count": 12,
     "metadata": {},
     "output_type": "execute_result"
    }
   ],
   "source": [
    "Identify_Person_Gender('pranab is now working. what about Rita. tom is sleeping')"
   ]
  },
  {
   "cell_type": "markdown",
   "metadata": {},
   "source": [
    " "
   ]
  },
  {
   "cell_type": "markdown",
   "metadata": {},
   "source": [
    " "
   ]
  }
 ],
 "metadata": {
  "kernelspec": {
   "display_name": "Python 3",
   "language": "python",
   "name": "python3"
  },
  "language_info": {
   "codemirror_mode": {
    "name": "ipython",
    "version": 3
   },
   "file_extension": ".py",
   "mimetype": "text/x-python",
   "name": "python",
   "nbconvert_exporter": "python",
   "pygments_lexer": "ipython3",
   "version": "3.8.3"
  }
 },
 "nbformat": 4,
 "nbformat_minor": 4
}
